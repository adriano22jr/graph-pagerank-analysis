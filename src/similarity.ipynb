{
 "cells": [
  {
   "cell_type": "code",
   "execution_count": 1,
   "metadata": {},
   "outputs": [],
   "source": [
    "import pandas as pd\n",
    "import pickle, json\n",
    "from sentence_transformers import SentenceTransformer\n",
    "from sklearn.metrics.pairwise import cosine_similarity"
   ]
  },
  {
   "cell_type": "code",
   "execution_count": 2,
   "metadata": {},
   "outputs": [],
   "source": [
    "def get_title_vector(list):\n",
    "    model = SentenceTransformer(\"all-mpnet-base-v2\")\n",
    "    embeddings = model.encode(list, show_progress_bar = True)\n",
    "    return embeddings\n",
    "\n",
    "def create_vectors(dataframe):\n",
    "    list_of_titles = []\n",
    "    \n",
    "    current = 1    \n",
    "    for paper_id in set(dataframe[\"id\"]):\n",
    "        percentage = (current / len(dataframe.axes[0]) * 100)\n",
    "        print(f\"Current percentage: {percentage: .2f}%\", end = \"\\r\")\n",
    "        \n",
    "        current_paper = tuple(dataframe.loc[dataframe[\"id\"] == paper_id].iloc[0])\n",
    "        title = current_paper[1]\n",
    "        list_of_titles.append(title)\n",
    "        current += 1\n",
    "    return get_title_vector(list_of_titles)\n",
    "\n",
    "def save_data(filename: str, *data):\n",
    "    file = open(filename, \"wb\")\n",
    "    for item in data:\n",
    "        pickle.dump(item, file)\n",
    "    file.close()\n",
    "    \n",
    "def load_data(filename: str):\n",
    "    file = open(filename, \"rb\")\n",
    "    couples = pickle.load(file)\n",
    "    file.close()\n",
    "    return couples\n",
    "\n",
    "def create_titles_file(dataframe, list):\n",
    "    couples = {}\n",
    "    current = 0    \n",
    "    for paper_id in set(dataframe[\"id\"]):\n",
    "        couples[str(paper_id)] = list[current]\n",
    "        current += 1\n",
    "    save_data(\"data/title_vectors.txt\", couples)\n",
    "    \n",
    "def get_similarities(dataframe):\n",
    "    couples = load_data(\"data/title_vectors.txt\")\n",
    "    similarities = {\"id\": [], \"value\": []}\n",
    "    \n",
    "    nodes_list = set()\n",
    "    for paper_id in set(dataframe[\"id\"]):\n",
    "        nodes_list.add(str(paper_id))\n",
    "    \n",
    "    current = 1    \n",
    "    for paper_id in set(dataframe[\"id\"]):\n",
    "        percentage = (current / len(dataframe.axes[0]) * 100)\n",
    "        print(f\"Current percentage: {percentage: .2f}%\", end = \"\\r\")\n",
    "        \n",
    "        current_paper = tuple(dataframe.loc[dataframe[\"id\"] == paper_id].iloc[0])\n",
    "        references = current_paper[7]\n",
    "        for reference_id in references:\n",
    "            if reference_id in nodes_list:\n",
    "                key = str(paper_id) + \"_\" + str(reference_id)\n",
    "                value = cosine_similarity([couples[str(paper_id)]], [couples[str(reference_id)]])\n",
    "                similarities[\"id\"].append(key) \n",
    "                similarities[\"value\"].append(float(value[0][0]))     \n",
    "        current += 1\n",
    "     \n",
    "    df = pd.DataFrame(similarities)\n",
    "    df.to_json(\"data/similarities.json\")"
   ]
  },
  {
   "cell_type": "code",
   "execution_count": null,
   "metadata": {},
   "outputs": [],
   "source": [
    "paper_dataframe = pd.read_json(\"data/nlp_papers.json\")\n",
    "embeddings = create_vectors(paper_dataframe)"
   ]
  },
  {
   "cell_type": "code",
   "execution_count": null,
   "metadata": {},
   "outputs": [],
   "source": [
    "create_titles_file(paper_dataframe, embeddings)\n",
    "get_similarities(paper_dataframe)"
   ]
  }
 ],
 "metadata": {
  "kernelspec": {
   "display_name": "pagerank-project",
   "language": "python",
   "name": "python3"
  },
  "language_info": {
   "codemirror_mode": {
    "name": "ipython",
    "version": 3
   },
   "file_extension": ".py",
   "mimetype": "text/x-python",
   "name": "python",
   "nbconvert_exporter": "python",
   "pygments_lexer": "ipython3",
   "version": "3.11.0"
  }
 },
 "nbformat": 4,
 "nbformat_minor": 2
}
