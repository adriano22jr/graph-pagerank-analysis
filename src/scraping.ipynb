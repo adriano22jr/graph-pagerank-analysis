{
 "cells": [
  {
   "cell_type": "code",
   "execution_count": 4,
   "metadata": {},
   "outputs": [],
   "source": [
    "import bs4, requests, math"
   ]
  },
  {
   "cell_type": "code",
   "execution_count": 5,
   "metadata": {},
   "outputs": [],
   "source": [
    "def create_url(paper_title):\n",
    "    url = \"https://scholar.google.com/scholar?q=\"\n",
    "    edited_title = paper_title.replace(\" \", \"+\")\n",
    "    return url + edited_title\n",
    "\n",
    "def get_citations(paper_title):\n",
    "    print(create_url(paper_title))\n",
    "    response = requests.get(create_url(paper_title))\n",
    "\n",
    "    if response.status_code == 200:\n",
    "        soup = bs4.BeautifulSoup(response.text, \"html.parser\")\n",
    "        divs = soup.find_all(\"div\", class_ = \"gs_fl\")\n",
    "\n",
    "        for div in divs:\n",
    "            elements = div.find_all(\"a\")\n",
    "            for elem in elements:\n",
    "                if str(elem.contents[0]).startswith(\"Citato da\"): \n",
    "                    citation_count = str(elem.contents[0]).split(\" \")[2]\n",
    "                    link = \"https://scholar.google.com/\" + elem[\"href\"]\n",
    "                    print(link)\n",
    "                    return int(citation_count), link"
   ]
  },
  {
   "cell_type": "code",
   "execution_count": null,
   "metadata": {},
   "outputs": [],
   "source": [
    "cc, link = get_citations(\"Extraction, layout analysis and classification of diagrams in PDF documents\")\n",
    "print(cc)\n",
    "\n",
    "#estimated_pages = math.ceil(cc / 10)\n",
    "\n",
    "\"\"\"\n",
    "response = requests.get(link)\n",
    "titles_list = []\n",
    "\n",
    "if response.status_code == 200:\n",
    "    soup = bs4.BeautifulSoup(response.text, \"html.parser\")\n",
    "    pages = soup.find(\"div\", id = \"gs_nml\").find_all(\"a\")\n",
    "    start_page = pages[0].text\n",
    "    last_page = pages[len(pages)-1].text\n",
    "    \n",
    "    print(start_page)\n",
    "    print(last_page)\n",
    "\"\"\"\n",
    "    \n",
    "\"\"\"h3s = soup.find_all(\"h3\", class_ = \"gs_rt\")\n",
    "    for h3 in h3s:\n",
    "        element = h3.find(\"a\").contents[0]\n",
    "        titles_list.append(element)\n",
    "    print(len(titles_list))\"\"\"\n",
    "        "
   ]
  }
 ],
 "metadata": {
  "kernelspec": {
   "display_name": "reti-env",
   "language": "python",
   "name": "python3"
  },
  "language_info": {
   "codemirror_mode": {
    "name": "ipython",
    "version": 3
   },
   "file_extension": ".py",
   "mimetype": "text/x-python",
   "name": "python",
   "nbconvert_exporter": "python",
   "pygments_lexer": "ipython3",
   "version": "3.12.0"
  }
 },
 "nbformat": 4,
 "nbformat_minor": 2
}
