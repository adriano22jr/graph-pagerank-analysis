{
 "cells": [
  {
   "cell_type": "code",
   "execution_count": 1,
   "metadata": {},
   "outputs": [],
   "source": [
    "import bs4, requests, math"
   ]
  },
  {
   "cell_type": "code",
   "execution_count": 10,
   "metadata": {},
   "outputs": [],
   "source": [
    "def create_url(paper_title):\n",
    "    url = \"https://scholar.google.com/scholar?q=\"\n",
    "    edited_title = paper_title.replace(\" \", \"+\")\n",
    "    return url + edited_title\n",
    "\n",
    "def get_citations(paper_title):\n",
    "    response = requests.get(create_url(paper_title))\n",
    "\n",
    "    if response.status_code == 200:\n",
    "        soup = bs4.BeautifulSoup(response.text, \"html.parser\")\n",
    "        divs = soup.find_all(\"div\", class_ = \"gs_fl\")\n",
    "\n",
    "        for div in divs:\n",
    "            elements = div.find_all(\"a\")\n",
    "            for elem in elements:\n",
    "                if str(elem.contents[0]).startswith(\"Citato da\"): \n",
    "                    citation_count = str(elem.contents[0]).split(\" \")[2]\n",
    "                    link = \"https://scholar.google.com/scholar?start=&\" + elem[\"href\"][9:]\n",
    "                    return int(citation_count), link\n",
    "                \n",
    "def get_referred_titles(citation_count, link):\n",
    "    estimated_pages = math.ceil(citation_count / 10)\n",
    "    titles_list = []\n",
    "    \n",
    "    for i in range(estimated_pages):\n",
    "        split = link.split(\"start=\")\n",
    "        current_page = split[0] + f\"start={i * 10}\" + split[1]\n",
    "        \n",
    "        response = requests.get(current_page)\n",
    "        soup = bs4.BeautifulSoup(response.text, \"html.parser\")\n",
    "        \n",
    "        h3s = soup.find_all(\"h3\", class_ = \"gs_rt\")\n",
    "        for h3 in h3s:\n",
    "            if h3.find(\"a\"):\n",
    "                element = h3.find(\"a\").contents[0]\n",
    "                titles_list.append(element)\n",
    "            elif h3.find(\"span\", id = \"\"):\n",
    "                element = h3.find(\"span\").contents[0]\n",
    "                titles_list.append(element)\n",
    "            print(len(titles_list))\n",
    "    return titles_list"
   ]
  },
  {
   "cell_type": "code",
   "execution_count": null,
   "metadata": {},
   "outputs": [],
   "source": [
    "cc, link = get_citations(\"Indonesian's Traditional Music Clustering Based on Audio Features\")\n",
    "print(cc, link)\n",
    "\n",
    "titles = get_referred_titles(cc, link)\n",
    "        "
   ]
  },
  {
   "cell_type": "code",
   "execution_count": null,
   "metadata": {},
   "outputs": [],
   "source": [
    "for item in titles:\n",
    "    print(item)"
   ]
  }
 ],
 "metadata": {
  "kernelspec": {
   "display_name": "reti-env",
   "language": "python",
   "name": "python3"
  },
  "language_info": {
   "codemirror_mode": {
    "name": "ipython",
    "version": 3
   },
   "file_extension": ".py",
   "mimetype": "text/x-python",
   "name": "python",
   "nbconvert_exporter": "python",
   "pygments_lexer": "ipython3",
   "version": "3.11.4"
  }
 },
 "nbformat": 4,
 "nbformat_minor": 2
}
