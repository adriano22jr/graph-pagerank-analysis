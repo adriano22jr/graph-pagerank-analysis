{
 "cells": [
  {
   "cell_type": "code",
   "execution_count": 1,
   "metadata": {},
   "outputs": [],
   "source": [
    "import pandas as pd\n",
    "import networkx as nx"
   ]
  },
  {
   "cell_type": "code",
   "execution_count": 2,
   "metadata": {},
   "outputs": [],
   "source": [
    "def create_citation_graph(dataframe):\n",
    "    graph = nx.DiGraph()  \n",
    "    nodes_list = set()\n",
    "    edges_list = set()\n",
    "    \n",
    "    for paper_id in set(dataframe[\"id\"]):\n",
    "        nodes_list.add(str(paper_id))\n",
    "    \n",
    "    current = 1    \n",
    "    for paper_id in set(dataframe[\"id\"]):\n",
    "        percentage = (current / len(dataframe.axes[0]) * 100)\n",
    "        print(f\"Current percentage: {percentage: .2f}%\", end = \"\\r\")\n",
    "        \n",
    "        current_paper = tuple(dataframe.loc[dataframe[\"id\"] == paper_id].iloc[0])\n",
    "        references = current_paper[7]\n",
    "        for reference_id in references:\n",
    "            if reference_id in nodes_list:\n",
    "                edges_list.add( (str(paper_id), reference_id) )\n",
    "\n",
    "        current += 1\n",
    "    \n",
    "    graph.add_nodes_from(nodes_list)\n",
    "    graph.add_edges_from(edges_list)\n",
    "    \n",
    "    return graph"
   ]
  },
  {
   "cell_type": "code",
   "execution_count": 3,
   "metadata": {},
   "outputs": [
    {
     "name": "stdout",
     "output_type": "stream",
     "text": [
      "Current percentage:  100.00%\r"
     ]
    }
   ],
   "source": [
    "paper_dataframe = pd.read_json(\"data/nlp_papers.json\")\n",
    "citation_graph = create_citation_graph(paper_dataframe)"
   ]
  },
  {
   "cell_type": "code",
   "execution_count": 4,
   "metadata": {},
   "outputs": [],
   "source": [
    "scores = nx.pagerank(citation_graph)\n",
    "sorted_scores = sorted(scores.items(), key = lambda x : x[1], reverse = True)"
   ]
  },
  {
   "cell_type": "code",
   "execution_count": 26,
   "metadata": {},
   "outputs": [],
   "source": [
    "dataframe_dict = {\"paper_id\": [], \"total_citations\": [], \"graph_citations\": [], \"pagerank\": []}\n",
    "\n",
    "for item in sorted_scores:\n",
    "    input_links = citation_graph.in_edges(item[0])\n",
    "    \n",
    "    dataframe_dict[\"paper_id\"].append(item[0])\n",
    "    dataframe_dict[\"total_citations\"].append(0)\n",
    "    dataframe_dict[\"graph_citations\"].append(len(input_links))\n",
    "    dataframe_dict[\"pagerank\"].append(item[1])\n",
    "\n",
    "df = pd.DataFrame(dataframe_dict)\n",
    "df.to_csv(\"data/stats.csv\")"
   ]
  },
  {
   "cell_type": "code",
   "execution_count": 12,
   "metadata": {},
   "outputs": [],
   "source": [
    "def create_subgraph(graph, start_node):\n",
    "    sub = nx.DiGraph()\n",
    "    nodes_list = set()\n",
    "    edges_list = []\n",
    "    \n",
    "    ancestors = nx.ancestors(graph, start_node)\n",
    "    for item in ancestors: nodes_list.add(item)\n",
    "    \n",
    "    edges_list += graph.in_edges(start_node)\n",
    "    \n",
    "    for node in nodes_list:\n",
    "        edges_list += graph.in_edges(node)\n",
    "        \n",
    "    sub.add_nodes_from(nodes_list)\n",
    "    sub.add_edges_from(edges_list)\n",
    "        \n",
    "    return sub"
   ]
  },
  {
   "cell_type": "code",
   "execution_count": null,
   "metadata": {},
   "outputs": [],
   "source": [
    "subgraph = create_subgraph(citation_graph, sorted_scores[0][0])\n",
    "print(subgraph)"
   ]
  }
 ],
 "metadata": {
  "kernelspec": {
   "display_name": "pagerank-project",
   "language": "python",
   "name": "python3"
  },
  "language_info": {
   "codemirror_mode": {
    "name": "ipython",
    "version": 3
   },
   "file_extension": ".py",
   "mimetype": "text/x-python",
   "name": "python",
   "nbconvert_exporter": "python",
   "pygments_lexer": "ipython3",
   "version": "3.11.0"
  }
 },
 "nbformat": 4,
 "nbformat_minor": 2
}
