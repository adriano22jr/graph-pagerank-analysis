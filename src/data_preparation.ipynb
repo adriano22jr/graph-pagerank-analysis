{
 "cells": [
  {
   "cell_type": "markdown",
   "metadata": {},
   "source": [
    "link unisa banca dati: \n",
    "https://www.biblioteche.unisa.it/cataloghi-e-risorse/banche-dati?area=616\n",
    "\n",
    "\n",
    "ai papers: 404,984 documents found (no documents lost)\n",
    "privacy papers: 139,015 documents found (2 documents lost during extraction)\n",
    "\n",
    "Final dataset columns:\n",
    "Author full names (need to remove ids), Author(s) id, Title, Year, Citation counts, Abstract, Index Keywords, Publisher, Document Type, EID\n",
    "\n",
    "Both datasets ordered by year."
   ]
  },
  {
   "cell_type": "code",
   "execution_count": 52,
   "metadata": {},
   "outputs": [],
   "source": [
    "import pandas as pd"
   ]
  },
  {
   "cell_type": "code",
   "execution_count": null,
   "metadata": {},
   "outputs": [],
   "source": [
    "privacy_df = pd.concat(map(pd.read_csv, [\"data/privacy/privacy_2008-2003.csv\", \n",
    "                                 \"data/privacy/privacy_2013-2009.csv\", \n",
    "                                 \"data/privacy/privacy_2016-2014.csv\", \n",
    "                                 \"data/privacy/privacy_2018-2017.csv\", \n",
    "                                 \"data/privacy/privacy_2019.csv\", \n",
    "                                 \"data/privacy/privacy_2020.csv\", \n",
    "                                 \"data/privacy/privacy_2021.csv\",\n",
    "                                 \"data/privacy/privacy_2022.csv\", \n",
    "                                 \"data/privacy/privacy_2023.csv\"]), ignore_index=True) \n",
    "print(len(privacy_df)) \n",
    "privacy_df.to_csv(\"privacy_papers.csv\")"
   ]
  },
  {
   "cell_type": "code",
   "execution_count": null,
   "metadata": {},
   "outputs": [],
   "source": [
    "ai_df = pd.concat(map(pd.read_csv, [\"data/ai/ai_1985-1992.csv\",\n",
    "                                    \"data/ai/ai_1993-1999.csv\",\n",
    "                                    \"data/ai/ai_2000-2003.csv\",\n",
    "                                    \"data/ai/ai_2004-2005.csv\",\n",
    "                                    \"data/ai/ai_2006-2007.csv\",\n",
    "                                    \"data/ai/ai_2008.csv\",\n",
    "                                    \"data/ai/ai_2009.csv\",\n",
    "                                    \"data/ai/ai_2010.csv\",\n",
    "                                    \"data/ai/ai_2011.csv\",\n",
    "                                    \"data/ai/ai_2012.csv\",\n",
    "                                    \"data/ai/ai_2013.csv\",\n",
    "                                    \"data/ai/ai_2014.csv\",\n",
    "                                    \"data/ai/ai_2015.csv\",\n",
    "                                    \"data/ai/ai_2016 (1).csv\",\n",
    "                                    \"data/ai/ai_2016 (2).csv\",\n",
    "                                    \"data/ai/ai_2017 (1).csv\",\n",
    "                                    \"data/ai/ai_2017 (2).csv\",\n",
    "                                    \"data/ai/ai_2018 (1).csv\",\n",
    "                                    \"data/ai/ai_2018 (2).csv\",\n",
    "                                    \"data/ai/ai_2019 (1).csv\",\n",
    "                                    \"data/ai/ai_2019 (2).csv\",\n",
    "                                    \"data/ai/ai_2020 (1).csv\",\n",
    "                                    \"data/ai/ai_2020 (2).csv\",\n",
    "                                    \"data/ai/ai_2021 (1).csv\",\n",
    "                                    \"data/ai/ai_2021 (2).csv\",\n",
    "                                    \"data/ai/ai_2022 (1).csv\",\n",
    "                                    \"data/ai/ai_2022 (2).csv\",\n",
    "                                    \"data/ai/ai_2023 (1).csv\",\n",
    "                                    \"data/ai/ai_2023 (2).csv\"]), ignore_index=True)\n",
    "print(len(ai_df))\n",
    "ai_df.to_csv(\"ai_papers.csv\")"
   ]
  },
  {
   "cell_type": "code",
   "execution_count": 57,
   "metadata": {},
   "outputs": [],
   "source": [
    "def filter_csv(dataframe: pd.DataFrame):\n",
    "    filtered_dataframe = dataframe.filter([\"Author full names\", \"Author(s) ID\", \"Title\", \"Year\", \"Cited by\", \n",
    "                              \"Abstract\", \"Index Keywords\", \"Publisher\", \"Document Type\", \"EID\"], axis=1)\n",
    "    return filtered_dataframe.sort_values(\"Year\", ascending=False, ignore_index=True)"
   ]
  },
  {
   "cell_type": "code",
   "execution_count": null,
   "metadata": {},
   "outputs": [],
   "source": [
    "ai_dataframe = pd.read_csv(\"data/ai_papers.csv\")\n",
    "filtered_ai = filter_csv(ai_dataframe)\n",
    "filtered_ai.to_csv(\"data/ai_filtered_papers.csv\")\n",
    "\n",
    "privacy_dataframe = pd.read_csv(\"data/privacy_papers.csv\")\n",
    "filtered_privacy = filter_csv(privacy_dataframe)\n",
    "filtered_privacy.to_csv(\"data/privacy_filtered_papers.csv\")"
   ]
  }
 ],
 "metadata": {
  "kernelspec": {
   "display_name": "reti-env",
   "language": "python",
   "name": "python3"
  },
  "language_info": {
   "codemirror_mode": {
    "name": "ipython",
    "version": 3
   },
   "file_extension": ".py",
   "mimetype": "text/x-python",
   "name": "python",
   "nbconvert_exporter": "python",
   "pygments_lexer": "ipython3",
   "version": "3.12.0"
  }
 },
 "nbformat": 4,
 "nbformat_minor": 2
}
