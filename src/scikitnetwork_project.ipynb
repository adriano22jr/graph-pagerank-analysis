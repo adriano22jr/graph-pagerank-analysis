{
 "cells": [
  {
   "cell_type": "code",
   "execution_count": null,
   "metadata": {},
   "outputs": [],
   "source": [
    "from graph import *\n",
    "from sknetwork.ranking import PageRank, top_k\n",
    "from sknetwork.visualization import svg_graph\n",
    "import numpy_ml.utils.graphs as ngr\n",
    "from scipy import sparse\n",
    "import pandas as pd\n",
    "import numpy as np"
   ]
  },
  {
   "cell_type": "code",
   "execution_count": 2,
   "metadata": {},
   "outputs": [],
   "source": [
    "def find_empty_references(dataset):\n",
    "    empty_list = []\n",
    "    current = 1\n",
    "    ids = set(dataset[\"id\"])\n",
    "    \n",
    "    for paper_id in ids:\n",
    "        percentage = (current / len(dataset.axes[0]) * 100)\n",
    "        print(f\"Current percentage: {percentage: .2f}%\", end = \"\\r\")\n",
    "        \n",
    "        current_paper = tuple(dataset.loc[dataset[\"id\"] == paper_id].iloc[0])\n",
    "        references = current_paper[7]\n",
    "        if len(references) == 0:\n",
    "            empty_list.append(paper_id)\n",
    "        current += 1\n",
    "    return empty_list\n",
    "\n",
    "def find_citations(dataset, list):\n",
    "    empty_list = []\n",
    "    current = 1\n",
    "    ids = set(dataset[\"id\"])\n",
    "    \n",
    "    for item in list:\n",
    "        percentage = (current / len(list) * 100)\n",
    "        print(f\"Current percentage: {percentage: .2f}%\", end = \"\\r\")\n",
    "        \n",
    "        flag = True\n",
    "        for paper_id in ids:\n",
    "            current_paper = tuple(dataset.loc[dataset[\"id\"] == paper_id].iloc[0])\n",
    "            references = current_paper[7]\n",
    "            if item not in references: flag = False\n",
    "        if not flag: empty_list.append(item)\n",
    "        current += 1\n",
    "    return empty_list\n",
    "    \n",
    "def remove_from_dataset(dataset, list):\n",
    "    print(f\"Dataset row before the elimination: {len(dataset.axes[0])}\")\n",
    "    for item in list:\n",
    "        dataset = dataset.drop(dataset[dataset[\"id\"] == item].index)\n",
    "    print(f\"Dataset row after the elimination: {len(dataset.axes[0])}\")\n",
    "    return dataset"
   ]
  },
  {
   "cell_type": "code",
   "execution_count": 3,
   "metadata": {},
   "outputs": [],
   "source": [
    "def create_citation_graph(dataset):\n",
    "    graph = Graph()\n",
    "    ids = set(dataset[\"id\"])    \n",
    "    current = 1\n",
    "    \n",
    "    paper_in_dataset = set()\n",
    "    for paper_id in ids:\n",
    "        paper_in_dataset.add(str(paper_id))\n",
    "        graph.add_node(str(paper_id))\n",
    "        \n",
    "    \n",
    "    for paper_id in ids:\n",
    "        percentage = (current / len(dataset.axes[0]) * 100)\n",
    "        print(f\"Current percentage: {percentage: .2f}%\", end = \"\\r\")\n",
    "        \n",
    "        current_paper = tuple(dataset.loc[dataset[\"id\"] == paper_id].iloc[0])\n",
    "        references = current_paper[7]\n",
    "        for reference_id in references:\n",
    "            if reference_id in paper_in_dataset:\n",
    "                graph.add_edge(str(paper_id), reference_id)\n",
    "\n",
    "        current += 1\n",
    "    \n",
    "    return graph"
   ]
  },
  {
   "cell_type": "code",
   "execution_count": null,
   "metadata": {},
   "outputs": [],
   "source": [
    "paper_dataframe = pd.read_json(\"data/nlp_papers.json\")\n",
    "lista = find_empty_references(paper_dataframe)\n",
    "paper_dataframe = remove_from_dataset(paper_dataframe, lista)"
   ]
  },
  {
   "cell_type": "code",
   "execution_count": 4,
   "metadata": {},
   "outputs": [
    {
     "name": "stdout",
     "output_type": "stream",
     "text": [
      "Current percentage:  100.00%\r"
     ]
    }
   ],
   "source": [
    "paper_dataframe = pd.read_json(\"data/nlp_papers.json\")\n",
    "citation_graph = create_citation_graph(paper_dataframe)"
   ]
  },
  {
   "cell_type": "code",
   "execution_count": null,
   "metadata": {},
   "outputs": [],
   "source": [
    "dictionary = citation_graph.get_dict()\n",
    "\n",
    "citation_counts = 0\n",
    "for key, value in dictionary.items():\n",
    "    citation_counts += len(value)\n",
    "    print(f\"Paper with id -> {key}\\t\\tCitation counts -> {len(value)}\")\n",
    "print(citation_counts)"
   ]
  },
  {
   "cell_type": "code",
   "execution_count": 5,
   "metadata": {},
   "outputs": [],
   "source": [
    "def pagerank_results(graph: ngr.DiGraph):\n",
    "    ranking = []\n",
    "    pagerank = PageRank()\n",
    "    \n",
    "    adj_matrix = graph.to_matrix()\n",
    "    scores = pagerank.fit_transform(adj_matrix)\n",
    "    \n",
    "    vertices = graph.vertices\n",
    "    for index, item in enumerate(vertices):\n",
    "        ranking.append( (item, scores[index]) )\n",
    "        \n",
    "    ranking.sort(key = lambda x: x[1], reverse = True)\n",
    "    return ranking"
   ]
  },
  {
   "cell_type": "code",
   "execution_count": null,
   "metadata": {},
   "outputs": [],
   "source": [
    "nodes = []\n",
    "edges = []\n",
    "\n",
    "dictionary = citation_graph.get_dict()\n",
    "for key in dictionary.keys():\n",
    "    nodes.append(key)\n",
    "\n",
    "for couple in citation_graph.get_edges():\n",
    "    edge = ngr.Edge(fr = couple[0], to = couple[1], w = None)\n",
    "    edges.append(edge)\n",
    "    \n",
    "numpy_graph = ngr.DiGraph(V = nodes, E = edges)\n",
    "\n",
    "pagerank = PageRank()\n",
    "scores = pagerank.fit_transform(numpy_graph.to_matrix())\n",
    "\n",
    "\n",
    "#ranking = pagerank_results(numpy_graph)\n",
    "#for item in ranking:\n",
    "#    print(item)"
   ]
  }
 ],
 "metadata": {
  "kernelspec": {
   "display_name": "reti-env",
   "language": "python",
   "name": "python3"
  },
  "language_info": {
   "codemirror_mode": {
    "name": "ipython",
    "version": 3
   },
   "file_extension": ".py",
   "mimetype": "text/x-python",
   "name": "python",
   "nbconvert_exporter": "python",
   "pygments_lexer": "ipython3",
   "version": "3.11.0"
  }
 },
 "nbformat": 4,
 "nbformat_minor": 2
}
